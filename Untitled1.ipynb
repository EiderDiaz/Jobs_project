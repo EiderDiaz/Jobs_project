{
  "nbformat": 4,
  "nbformat_minor": 0,
  "metadata": {
    "colab": {
      "name": "Untitled1.ipynb",
      "provenance": []
    },
    "kernelspec": {
      "name": "python3",
      "display_name": "Python 3"
    },
    "language_info": {
      "name": "python"
    }
  },
  "cells": [
    {
      "cell_type": "markdown",
      "metadata": {
        "id": "_wAIfaraTED6"
      },
      "source": [
        "\n",
        "                                                                             \n",
        "> Software engineer and Data science prediction             "
      ]
    },
    {
      "cell_type": "code",
      "metadata": {
        "id": "k3cygTKhxJaJ"
      },
      "source": [
        ""
      ],
      "execution_count": null,
      "outputs": []
    }
  ]
}